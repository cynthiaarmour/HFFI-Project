{
 "cells": [
  {
   "cell_type": "markdown",
   "metadata": {},
   "source": [
    "# Part 1: Basic Plotting"
   ]
  },
  {
   "cell_type": "code",
   "execution_count": 1,
   "metadata": {},
   "outputs": [
    {
     "name": "stdout",
     "output_type": "stream",
     "text": [
      "0.3.0\n"
     ]
    }
   ],
   "source": [
    "import pandas as pd\n",
    "pd.set_option(\"display.max.columns\", None)\n",
    "\n",
    "import geopandas as gpd\n",
    "import matplotlib.pyplot as plt\n",
    "import shapely as shply\n",
    "import numpy as np\n",
    "print(gpd.__version__)  # note this is a pretty old version"
   ]
  },
  {
   "cell_type": "code",
   "execution_count": 2,
   "metadata": {},
   "outputs": [
    {
     "name": "stdout",
     "output_type": "stream",
     "text": [
      "861\n"
     ]
    },
    {
     "data": {
      "text/html": [
       "<div>\n",
       "<style scoped>\n",
       "    .dataframe tbody tr th:only-of-type {\n",
       "        vertical-align: middle;\n",
       "    }\n",
       "\n",
       "    .dataframe tbody tr th {\n",
       "        vertical-align: top;\n",
       "    }\n",
       "\n",
       "    .dataframe thead th {\n",
       "        text-align: right;\n",
       "    }\n",
       "</style>\n",
       "<table border=\"1\" class=\"dataframe\">\n",
       "  <thead>\n",
       "    <tr style=\"text-align: right;\">\n",
       "      <th></th>\n",
       "      <th>field_1</th>\n",
       "      <th>year</th>\n",
       "      <th>org_id</th>\n",
       "      <th>loan_amt</th>\n",
       "      <th>entity_structure</th>\n",
       "      <th>structure_edit</th>\n",
       "      <th>total_proj_cost</th>\n",
       "      <th>loan_pct</th>\n",
       "      <th>food_desert</th>\n",
       "      <th>food_desert_2</th>\n",
       "      <th>hffi_year</th>\n",
       "      <th>proj_desc</th>\n",
       "      <th>bus_type</th>\n",
       "      <th>activity</th>\n",
       "      <th>activity_2</th>\n",
       "      <th>activity_3</th>\n",
       "      <th>activity_other</th>\n",
       "      <th>latitude</th>\n",
       "      <th>longitude</th>\n",
       "      <th>street</th>\n",
       "      <th>address_2</th>\n",
       "      <th>city</th>\n",
       "      <th>state</th>\n",
       "      <th>zipcode</th>\n",
       "      <th>zipcode_4</th>\n",
       "      <th>fips</th>\n",
       "      <th>address</th>\n",
       "      <th>location</th>\n",
       "      <th>point</th>\n",
       "      <th>lat</th>\n",
       "      <th>long</th>\n",
       "      <th>alt</th>\n",
       "      <th>field_33</th>\n",
       "      <th>geometry</th>\n",
       "    </tr>\n",
       "  </thead>\n",
       "  <tbody>\n",
       "    <tr>\n",
       "      <th>0</th>\n",
       "      <td>0</td>\n",
       "      <td>2018</td>\n",
       "      <td>448</td>\n",
       "      <td>2892723</td>\n",
       "      <td></td>\n",
       "      <td></td>\n",
       "      <td>14500000</td>\n",
       "      <td>0.2</td>\n",
       "      <td>OTHER</td>\n",
       "      <td>The Food Trust</td>\n",
       "      <td>2014</td>\n",
       "      <td>Acquisition and predevelopment of vacant site ...</td>\n",
       "      <td>RETAIL</td>\n",
       "      <td>GROCERYSTORE</td>\n",
       "      <td>Grocery Store</td>\n",
       "      <td>Grocery Store</td>\n",
       "      <td></td>\n",
       "      <td>42.086</td>\n",
       "      <td>-71.024</td>\n",
       "      <td></td>\n",
       "      <td></td>\n",
       "      <td></td>\n",
       "      <td></td>\n",
       "      <td></td>\n",
       "      <td></td>\n",
       "      <td></td>\n",
       "      <td>139 Pleasant St,Brockton,MA,02301</td>\n",
       "      <td>139, Pleasant Street, Montello, Brockton, Plym...</td>\n",
       "      <td>(42.086082909090905, -71.0239490909091, 0.0)</td>\n",
       "      <td>42.08608291</td>\n",
       "      <td>-71.02394909</td>\n",
       "      <td>0</td>\n",
       "      <td>FALSE</td>\n",
       "      <td>None</td>\n",
       "    </tr>\n",
       "    <tr>\n",
       "      <th>1</th>\n",
       "      <td>1</td>\n",
       "      <td>2018</td>\n",
       "      <td>448</td>\n",
       "      <td>3300000</td>\n",
       "      <td></td>\n",
       "      <td></td>\n",
       "      <td>6050000</td>\n",
       "      <td>0.55</td>\n",
       "      <td>OTHER</td>\n",
       "      <td>The Food Trust</td>\n",
       "      <td>2013</td>\n",
       "      <td>Acquisition and predevelopment of vacant site ...</td>\n",
       "      <td>RETAIL</td>\n",
       "      <td>GROCERYSTORE</td>\n",
       "      <td>Grocery Store</td>\n",
       "      <td>Grocery Store</td>\n",
       "      <td></td>\n",
       "      <td>42.086</td>\n",
       "      <td>-71.024</td>\n",
       "      <td></td>\n",
       "      <td></td>\n",
       "      <td></td>\n",
       "      <td></td>\n",
       "      <td></td>\n",
       "      <td></td>\n",
       "      <td></td>\n",
       "      <td>139 Pleasant St,Brockton,MA,02301</td>\n",
       "      <td>139, Pleasant Street, Montello, Brockton, Plym...</td>\n",
       "      <td>(42.086082909090905, -71.0239490909091, 0.0)</td>\n",
       "      <td>42.08608291</td>\n",
       "      <td>-71.02394909</td>\n",
       "      <td>0</td>\n",
       "      <td></td>\n",
       "      <td>None</td>\n",
       "    </tr>\n",
       "    <tr>\n",
       "      <th>2</th>\n",
       "      <td>2</td>\n",
       "      <td>2018</td>\n",
       "      <td>448</td>\n",
       "      <td>3000000</td>\n",
       "      <td></td>\n",
       "      <td></td>\n",
       "      <td>22400000</td>\n",
       "      <td>0.13</td>\n",
       "      <td>ERS</td>\n",
       "      <td></td>\n",
       "      <td>2016</td>\n",
       "      <td>Renovated building houses Fresh Grocer brand g...</td>\n",
       "      <td>RETAIL</td>\n",
       "      <td>GROCERYSTORE</td>\n",
       "      <td>Grocery Store</td>\n",
       "      <td>Grocery Store</td>\n",
       "      <td></td>\n",
       "      <td>40.003</td>\n",
       "      <td>-75.215</td>\n",
       "      <td></td>\n",
       "      <td></td>\n",
       "      <td></td>\n",
       "      <td></td>\n",
       "      <td></td>\n",
       "      <td></td>\n",
       "      <td></td>\n",
       "      <td>4105 Monument Rd,Philadelphia,PA,19131</td>\n",
       "      <td>4105, Monument Road, Pencoyd, Philadelphia, Ph...</td>\n",
       "      <td>(40.00174615151515, -75.21529207575757, 0.0)</td>\n",
       "      <td>40.00174615</td>\n",
       "      <td>-75.21529208</td>\n",
       "      <td>0</td>\n",
       "      <td></td>\n",
       "      <td>None</td>\n",
       "    </tr>\n",
       "    <tr>\n",
       "      <th>3</th>\n",
       "      <td>3</td>\n",
       "      <td>2018</td>\n",
       "      <td>448</td>\n",
       "      <td>750000</td>\n",
       "      <td></td>\n",
       "      <td></td>\n",
       "      <td>750000</td>\n",
       "      <td>1</td>\n",
       "      <td>OTHER</td>\n",
       "      <td>The Food Trust</td>\n",
       "      <td>2014</td>\n",
       "      <td>Acquisition and build-out of commercial traini...</td>\n",
       "      <td>NONRETAIL</td>\n",
       "      <td>PRODUCTION</td>\n",
       "      <td>Production</td>\n",
       "      <td>Production and Distribution</td>\n",
       "      <td></td>\n",
       "      <td>42.332</td>\n",
       "      <td>-71.082</td>\n",
       "      <td></td>\n",
       "      <td></td>\n",
       "      <td></td>\n",
       "      <td></td>\n",
       "      <td></td>\n",
       "      <td></td>\n",
       "      <td></td>\n",
       "      <td>2117 Washington St,Boston,MA,02119</td>\n",
       "      <td>2117, Washington Street, Roxbury Crossing, Sou...</td>\n",
       "      <td>(42.33191704347826, -71.08190847826087, 0.0)</td>\n",
       "      <td>42.33191704</td>\n",
       "      <td>-71.08190848</td>\n",
       "      <td>0</td>\n",
       "      <td></td>\n",
       "      <td>None</td>\n",
       "    </tr>\n",
       "    <tr>\n",
       "      <th>4</th>\n",
       "      <td>4</td>\n",
       "      <td>2018</td>\n",
       "      <td>502</td>\n",
       "      <td>54000</td>\n",
       "      <td>FORPROFIT</td>\n",
       "      <td>Forprofit</td>\n",
       "      <td>81000</td>\n",
       "      <td>0.67</td>\n",
       "      <td>OTHER</td>\n",
       "      <td>CIMS/ERS (&lt;120% adj.</td>\n",
       "      <td>2017</td>\n",
       "      <td>Grocery Store</td>\n",
       "      <td>RETAIL</td>\n",
       "      <td>GROCERYSTORE</td>\n",
       "      <td>Grocery Store</td>\n",
       "      <td>Grocery Store</td>\n",
       "      <td></td>\n",
       "      <td>40.03579771</td>\n",
       "      <td>-76.31409186</td>\n",
       "      <td>252 S 4th St</td>\n",
       "      <td></td>\n",
       "      <td>Reading</td>\n",
       "      <td>PA</td>\n",
       "      <td>19602</td>\n",
       "      <td></td>\n",
       "      <td>42011002500</td>\n",
       "      <td>252 S 4th St,Reading,PA,19602</td>\n",
       "      <td>252, South 4th Street, Reading, Berks County, ...</td>\n",
       "      <td>(40.33143120408163, -75.93009128571428, 0.0)</td>\n",
       "      <td>40.3314312</td>\n",
       "      <td>-75.93009129</td>\n",
       "      <td>0</td>\n",
       "      <td></td>\n",
       "      <td>None</td>\n",
       "    </tr>\n",
       "  </tbody>\n",
       "</table>\n",
       "</div>"
      ],
      "text/plain": [
       "  field_1  year org_id loan_amt entity_structure structure_edit  \\\n",
       "0       0  2018    448  2892723                                   \n",
       "1       1  2018    448  3300000                                   \n",
       "2       2  2018    448  3000000                                   \n",
       "3       3  2018    448   750000                                   \n",
       "4       4  2018    502    54000        FORPROFIT      Forprofit   \n",
       "\n",
       "  total_proj_cost loan_pct food_desert         food_desert_2 hffi_year  \\\n",
       "0        14500000      0.2       OTHER        The Food Trust      2014   \n",
       "1         6050000     0.55       OTHER        The Food Trust      2013   \n",
       "2        22400000     0.13         ERS                            2016   \n",
       "3          750000        1       OTHER        The Food Trust      2014   \n",
       "4           81000     0.67       OTHER  CIMS/ERS (<120% adj.      2017   \n",
       "\n",
       "                                           proj_desc   bus_type      activity  \\\n",
       "0  Acquisition and predevelopment of vacant site ...     RETAIL  GROCERYSTORE   \n",
       "1  Acquisition and predevelopment of vacant site ...     RETAIL  GROCERYSTORE   \n",
       "2  Renovated building houses Fresh Grocer brand g...     RETAIL  GROCERYSTORE   \n",
       "3  Acquisition and build-out of commercial traini...  NONRETAIL    PRODUCTION   \n",
       "4                                      Grocery Store     RETAIL  GROCERYSTORE   \n",
       "\n",
       "      activity_2                   activity_3 activity_other     latitude  \\\n",
       "0  Grocery Store                Grocery Store                      42.086   \n",
       "1  Grocery Store                Grocery Store                      42.086   \n",
       "2  Grocery Store                Grocery Store                      40.003   \n",
       "3     Production  Production and Distribution                      42.332   \n",
       "4  Grocery Store                Grocery Store                 40.03579771   \n",
       "\n",
       "      longitude        street address_2     city state zipcode zipcode_4  \\\n",
       "0       -71.024                                                            \n",
       "1       -71.024                                                            \n",
       "2       -75.215                                                            \n",
       "3       -71.082                                                            \n",
       "4  -76.31409186  252 S 4th St            Reading    PA   19602             \n",
       "\n",
       "          fips                                 address  \\\n",
       "0                    139 Pleasant St,Brockton,MA,02301   \n",
       "1                    139 Pleasant St,Brockton,MA,02301   \n",
       "2               4105 Monument Rd,Philadelphia,PA,19131   \n",
       "3                   2117 Washington St,Boston,MA,02119   \n",
       "4  42011002500           252 S 4th St,Reading,PA,19602   \n",
       "\n",
       "                                            location  \\\n",
       "0  139, Pleasant Street, Montello, Brockton, Plym...   \n",
       "1  139, Pleasant Street, Montello, Brockton, Plym...   \n",
       "2  4105, Monument Road, Pencoyd, Philadelphia, Ph...   \n",
       "3  2117, Washington Street, Roxbury Crossing, Sou...   \n",
       "4  252, South 4th Street, Reading, Berks County, ...   \n",
       "\n",
       "                                          point          lat          long  \\\n",
       "0  (42.086082909090905, -71.0239490909091, 0.0)  42.08608291  -71.02394909   \n",
       "1  (42.086082909090905, -71.0239490909091, 0.0)  42.08608291  -71.02394909   \n",
       "2  (40.00174615151515, -75.21529207575757, 0.0)  40.00174615  -75.21529208   \n",
       "3  (42.33191704347826, -71.08190847826087, 0.0)  42.33191704  -71.08190848   \n",
       "4  (40.33143120408163, -75.93009128571428, 0.0)   40.3314312  -75.93009129   \n",
       "\n",
       "  alt field_33 geometry  \n",
       "0   0    FALSE     None  \n",
       "1   0              None  \n",
       "2   0              None  \n",
       "3   0              None  \n",
       "4   0              None  "
      ]
     },
     "execution_count": 2,
     "metadata": {},
     "output_type": "execute_result"
    }
   ],
   "source": [
    "gdf = gpd.read_file('hffi_data_FY20122018_geocoded_final.csv')\n",
    "print(len(gdf))\n",
    "gdf.head()\n",
    "#gdf.columns"
   ]
  },
  {
   "cell_type": "code",
   "execution_count": 3,
   "metadata": {},
   "outputs": [
    {
     "name": "stdout",
     "output_type": "stream",
     "text": [
      "\n",
      "So our \"geometry\" column is a  <class 'geopandas.geoseries.GeoSeries'>\n",
      "\n",
      "Inside that column, we have many  <class 'NoneType'>\n"
     ]
    },
    {
     "data": {
      "text/plain": [
       "861"
      ]
     },
     "execution_count": 3,
     "metadata": {},
     "output_type": "execute_result"
    }
   ],
   "source": [
    "print('\\nSo our \"geometry\" column is a ', type(gdf.geometry))\n",
    "print('\\nInside that column, we have many ', type(gdf.geometry[0]))\n",
    "len(gdf)"
   ]
  },
  {
   "cell_type": "code",
   "execution_count": 4,
   "metadata": {},
   "outputs": [
    {
     "name": "stdout",
     "output_type": "stream",
     "text": [
      "\n",
      "So our \"geometry\" column is a  <class 'pandas.core.series.Series'>\n",
      "\n",
      "Inside that column, we have many  <class 'str'>\n"
     ]
    }
   ],
   "source": [
    "print('\\nSo our \"geometry\" column is a ', type(gdf.lat))\n",
    "print('\\nInside that column, we have many ', type(gdf.lat[0]))"
   ]
  },
  {
   "cell_type": "code",
   "execution_count": 5,
   "metadata": {
    "scrolled": true
   },
   "outputs": [
    {
     "name": "stdout",
     "output_type": "stream",
     "text": [
      "\n",
      "So now our \"geometry\" column is still a  <class 'geopandas.geoseries.GeoSeries'>\n",
      "\n",
      ".....But inside that column, we have many  <class 'shapely.geometry.point.Point'>\n"
     ]
    }
   ],
   "source": [
    "gdf['float_lat'] = pd.to_numeric(gdf['lat'], downcast='float')\n",
    "gdf['float_long'] = pd.to_numeric(gdf['long'], downcast='float')\n",
    "\n",
    "#Some fancy looping to populate our 'geometry' column\n",
    "gdf['geometry'] = [shply.geometry.point.Point(xy) for xy in zip(gdf['float_long'], gdf['float_lat'])]\n",
    "\n",
    "# Coordinate reference system : WGS84\n",
    "gdf.crs = {'init': 'epsg:4269'}\n",
    "\n",
    "print('\\nSo now our \"geometry\" column is still a ', type(gdf.geometry))\n",
    "print('\\n.....But inside that column, we have many ', type(gdf.geometry[0]))\n",
    "\n"
   ]
  },
  {
   "cell_type": "code",
   "execution_count": 6,
   "metadata": {
    "scrolled": true
   },
   "outputs": [
    {
     "data": {
      "text/html": [
       "<div>\n",
       "<style scoped>\n",
       "    .dataframe tbody tr th:only-of-type {\n",
       "        vertical-align: middle;\n",
       "    }\n",
       "\n",
       "    .dataframe tbody tr th {\n",
       "        vertical-align: top;\n",
       "    }\n",
       "\n",
       "    .dataframe thead th {\n",
       "        text-align: right;\n",
       "    }\n",
       "</style>\n",
       "<table border=\"1\" class=\"dataframe\">\n",
       "  <thead>\n",
       "    <tr style=\"text-align: right;\">\n",
       "      <th></th>\n",
       "      <th>field_1</th>\n",
       "      <th>year</th>\n",
       "      <th>org_id</th>\n",
       "      <th>loan_amt</th>\n",
       "      <th>entity_structure</th>\n",
       "      <th>structure_edit</th>\n",
       "      <th>total_proj_cost</th>\n",
       "      <th>loan_pct</th>\n",
       "      <th>food_desert</th>\n",
       "      <th>food_desert_2</th>\n",
       "      <th>hffi_year</th>\n",
       "      <th>proj_desc</th>\n",
       "      <th>bus_type</th>\n",
       "      <th>activity</th>\n",
       "      <th>activity_2</th>\n",
       "      <th>activity_3</th>\n",
       "      <th>activity_other</th>\n",
       "      <th>latitude</th>\n",
       "      <th>longitude</th>\n",
       "      <th>street</th>\n",
       "      <th>address_2</th>\n",
       "      <th>city</th>\n",
       "      <th>state</th>\n",
       "      <th>zipcode</th>\n",
       "      <th>zipcode_4</th>\n",
       "      <th>fips</th>\n",
       "      <th>address</th>\n",
       "      <th>location</th>\n",
       "      <th>point</th>\n",
       "      <th>lat</th>\n",
       "      <th>long</th>\n",
       "      <th>alt</th>\n",
       "      <th>field_33</th>\n",
       "      <th>geometry</th>\n",
       "      <th>float_lat</th>\n",
       "      <th>float_long</th>\n",
       "    </tr>\n",
       "  </thead>\n",
       "  <tbody>\n",
       "    <tr>\n",
       "      <th>0</th>\n",
       "      <td>0</td>\n",
       "      <td>2018</td>\n",
       "      <td>448</td>\n",
       "      <td>2892723</td>\n",
       "      <td></td>\n",
       "      <td></td>\n",
       "      <td>14500000</td>\n",
       "      <td>0.2</td>\n",
       "      <td>OTHER</td>\n",
       "      <td>The Food Trust</td>\n",
       "      <td>2014</td>\n",
       "      <td>Acquisition and predevelopment of vacant site ...</td>\n",
       "      <td>RETAIL</td>\n",
       "      <td>GROCERYSTORE</td>\n",
       "      <td>Grocery Store</td>\n",
       "      <td>Grocery Store</td>\n",
       "      <td></td>\n",
       "      <td>42.086</td>\n",
       "      <td>-71.024</td>\n",
       "      <td></td>\n",
       "      <td></td>\n",
       "      <td></td>\n",
       "      <td></td>\n",
       "      <td></td>\n",
       "      <td></td>\n",
       "      <td></td>\n",
       "      <td>139 Pleasant St,Brockton,MA,02301</td>\n",
       "      <td>139, Pleasant Street, Montello, Brockton, Plym...</td>\n",
       "      <td>(42.086082909090905, -71.0239490909091, 0.0)</td>\n",
       "      <td>42.08608291</td>\n",
       "      <td>-71.02394909</td>\n",
       "      <td>0</td>\n",
       "      <td>FALSE</td>\n",
       "      <td>POINT (-71.02394866943359 42.08608245849609)</td>\n",
       "      <td>42.086082</td>\n",
       "      <td>-71.023949</td>\n",
       "    </tr>\n",
       "    <tr>\n",
       "      <th>1</th>\n",
       "      <td>1</td>\n",
       "      <td>2018</td>\n",
       "      <td>448</td>\n",
       "      <td>3300000</td>\n",
       "      <td></td>\n",
       "      <td></td>\n",
       "      <td>6050000</td>\n",
       "      <td>0.55</td>\n",
       "      <td>OTHER</td>\n",
       "      <td>The Food Trust</td>\n",
       "      <td>2013</td>\n",
       "      <td>Acquisition and predevelopment of vacant site ...</td>\n",
       "      <td>RETAIL</td>\n",
       "      <td>GROCERYSTORE</td>\n",
       "      <td>Grocery Store</td>\n",
       "      <td>Grocery Store</td>\n",
       "      <td></td>\n",
       "      <td>42.086</td>\n",
       "      <td>-71.024</td>\n",
       "      <td></td>\n",
       "      <td></td>\n",
       "      <td></td>\n",
       "      <td></td>\n",
       "      <td></td>\n",
       "      <td></td>\n",
       "      <td></td>\n",
       "      <td>139 Pleasant St,Brockton,MA,02301</td>\n",
       "      <td>139, Pleasant Street, Montello, Brockton, Plym...</td>\n",
       "      <td>(42.086082909090905, -71.0239490909091, 0.0)</td>\n",
       "      <td>42.08608291</td>\n",
       "      <td>-71.02394909</td>\n",
       "      <td>0</td>\n",
       "      <td></td>\n",
       "      <td>POINT (-71.02394866943359 42.08608245849609)</td>\n",
       "      <td>42.086082</td>\n",
       "      <td>-71.023949</td>\n",
       "    </tr>\n",
       "    <tr>\n",
       "      <th>2</th>\n",
       "      <td>2</td>\n",
       "      <td>2018</td>\n",
       "      <td>448</td>\n",
       "      <td>3000000</td>\n",
       "      <td></td>\n",
       "      <td></td>\n",
       "      <td>22400000</td>\n",
       "      <td>0.13</td>\n",
       "      <td>ERS</td>\n",
       "      <td></td>\n",
       "      <td>2016</td>\n",
       "      <td>Renovated building houses Fresh Grocer brand g...</td>\n",
       "      <td>RETAIL</td>\n",
       "      <td>GROCERYSTORE</td>\n",
       "      <td>Grocery Store</td>\n",
       "      <td>Grocery Store</td>\n",
       "      <td></td>\n",
       "      <td>40.003</td>\n",
       "      <td>-75.215</td>\n",
       "      <td></td>\n",
       "      <td></td>\n",
       "      <td></td>\n",
       "      <td></td>\n",
       "      <td></td>\n",
       "      <td></td>\n",
       "      <td></td>\n",
       "      <td>4105 Monument Rd,Philadelphia,PA,19131</td>\n",
       "      <td>4105, Monument Road, Pencoyd, Philadelphia, Ph...</td>\n",
       "      <td>(40.00174615151515, -75.21529207575757, 0.0)</td>\n",
       "      <td>40.00174615</td>\n",
       "      <td>-75.21529208</td>\n",
       "      <td>0</td>\n",
       "      <td></td>\n",
       "      <td>POINT (-75.21529388427734 40.00174713134766)</td>\n",
       "      <td>40.001747</td>\n",
       "      <td>-75.215294</td>\n",
       "    </tr>\n",
       "    <tr>\n",
       "      <th>3</th>\n",
       "      <td>3</td>\n",
       "      <td>2018</td>\n",
       "      <td>448</td>\n",
       "      <td>750000</td>\n",
       "      <td></td>\n",
       "      <td></td>\n",
       "      <td>750000</td>\n",
       "      <td>1</td>\n",
       "      <td>OTHER</td>\n",
       "      <td>The Food Trust</td>\n",
       "      <td>2014</td>\n",
       "      <td>Acquisition and build-out of commercial traini...</td>\n",
       "      <td>NONRETAIL</td>\n",
       "      <td>PRODUCTION</td>\n",
       "      <td>Production</td>\n",
       "      <td>Production and Distribution</td>\n",
       "      <td></td>\n",
       "      <td>42.332</td>\n",
       "      <td>-71.082</td>\n",
       "      <td></td>\n",
       "      <td></td>\n",
       "      <td></td>\n",
       "      <td></td>\n",
       "      <td></td>\n",
       "      <td></td>\n",
       "      <td></td>\n",
       "      <td>2117 Washington St,Boston,MA,02119</td>\n",
       "      <td>2117, Washington Street, Roxbury Crossing, Sou...</td>\n",
       "      <td>(42.33191704347826, -71.08190847826087, 0.0)</td>\n",
       "      <td>42.33191704</td>\n",
       "      <td>-71.08190848</td>\n",
       "      <td>0</td>\n",
       "      <td></td>\n",
       "      <td>POINT (-71.0819091796875 42.33191680908203)</td>\n",
       "      <td>42.331917</td>\n",
       "      <td>-71.081909</td>\n",
       "    </tr>\n",
       "    <tr>\n",
       "      <th>4</th>\n",
       "      <td>4</td>\n",
       "      <td>2018</td>\n",
       "      <td>502</td>\n",
       "      <td>54000</td>\n",
       "      <td>FORPROFIT</td>\n",
       "      <td>Forprofit</td>\n",
       "      <td>81000</td>\n",
       "      <td>0.67</td>\n",
       "      <td>OTHER</td>\n",
       "      <td>CIMS/ERS (&lt;120% adj.</td>\n",
       "      <td>2017</td>\n",
       "      <td>Grocery Store</td>\n",
       "      <td>RETAIL</td>\n",
       "      <td>GROCERYSTORE</td>\n",
       "      <td>Grocery Store</td>\n",
       "      <td>Grocery Store</td>\n",
       "      <td></td>\n",
       "      <td>40.03579771</td>\n",
       "      <td>-76.31409186</td>\n",
       "      <td>252 S 4th St</td>\n",
       "      <td></td>\n",
       "      <td>Reading</td>\n",
       "      <td>PA</td>\n",
       "      <td>19602</td>\n",
       "      <td></td>\n",
       "      <td>42011002500</td>\n",
       "      <td>252 S 4th St,Reading,PA,19602</td>\n",
       "      <td>252, South 4th Street, Reading, Berks County, ...</td>\n",
       "      <td>(40.33143120408163, -75.93009128571428, 0.0)</td>\n",
       "      <td>40.3314312</td>\n",
       "      <td>-75.93009129</td>\n",
       "      <td>0</td>\n",
       "      <td></td>\n",
       "      <td>POINT (-75.93009185791016 40.3314323425293)</td>\n",
       "      <td>40.331432</td>\n",
       "      <td>-75.930092</td>\n",
       "    </tr>\n",
       "  </tbody>\n",
       "</table>\n",
       "</div>"
      ],
      "text/plain": [
       "  field_1  year org_id loan_amt entity_structure structure_edit  \\\n",
       "0       0  2018    448  2892723                                   \n",
       "1       1  2018    448  3300000                                   \n",
       "2       2  2018    448  3000000                                   \n",
       "3       3  2018    448   750000                                   \n",
       "4       4  2018    502    54000        FORPROFIT      Forprofit   \n",
       "\n",
       "  total_proj_cost loan_pct food_desert         food_desert_2 hffi_year  \\\n",
       "0        14500000      0.2       OTHER        The Food Trust      2014   \n",
       "1         6050000     0.55       OTHER        The Food Trust      2013   \n",
       "2        22400000     0.13         ERS                            2016   \n",
       "3          750000        1       OTHER        The Food Trust      2014   \n",
       "4           81000     0.67       OTHER  CIMS/ERS (<120% adj.      2017   \n",
       "\n",
       "                                           proj_desc   bus_type      activity  \\\n",
       "0  Acquisition and predevelopment of vacant site ...     RETAIL  GROCERYSTORE   \n",
       "1  Acquisition and predevelopment of vacant site ...     RETAIL  GROCERYSTORE   \n",
       "2  Renovated building houses Fresh Grocer brand g...     RETAIL  GROCERYSTORE   \n",
       "3  Acquisition and build-out of commercial traini...  NONRETAIL    PRODUCTION   \n",
       "4                                      Grocery Store     RETAIL  GROCERYSTORE   \n",
       "\n",
       "      activity_2                   activity_3 activity_other     latitude  \\\n",
       "0  Grocery Store                Grocery Store                      42.086   \n",
       "1  Grocery Store                Grocery Store                      42.086   \n",
       "2  Grocery Store                Grocery Store                      40.003   \n",
       "3     Production  Production and Distribution                      42.332   \n",
       "4  Grocery Store                Grocery Store                 40.03579771   \n",
       "\n",
       "      longitude        street address_2     city state zipcode zipcode_4  \\\n",
       "0       -71.024                                                            \n",
       "1       -71.024                                                            \n",
       "2       -75.215                                                            \n",
       "3       -71.082                                                            \n",
       "4  -76.31409186  252 S 4th St            Reading    PA   19602             \n",
       "\n",
       "          fips                                 address  \\\n",
       "0                    139 Pleasant St,Brockton,MA,02301   \n",
       "1                    139 Pleasant St,Brockton,MA,02301   \n",
       "2               4105 Monument Rd,Philadelphia,PA,19131   \n",
       "3                   2117 Washington St,Boston,MA,02119   \n",
       "4  42011002500           252 S 4th St,Reading,PA,19602   \n",
       "\n",
       "                                            location  \\\n",
       "0  139, Pleasant Street, Montello, Brockton, Plym...   \n",
       "1  139, Pleasant Street, Montello, Brockton, Plym...   \n",
       "2  4105, Monument Road, Pencoyd, Philadelphia, Ph...   \n",
       "3  2117, Washington Street, Roxbury Crossing, Sou...   \n",
       "4  252, South 4th Street, Reading, Berks County, ...   \n",
       "\n",
       "                                          point          lat          long  \\\n",
       "0  (42.086082909090905, -71.0239490909091, 0.0)  42.08608291  -71.02394909   \n",
       "1  (42.086082909090905, -71.0239490909091, 0.0)  42.08608291  -71.02394909   \n",
       "2  (40.00174615151515, -75.21529207575757, 0.0)  40.00174615  -75.21529208   \n",
       "3  (42.33191704347826, -71.08190847826087, 0.0)  42.33191704  -71.08190848   \n",
       "4  (40.33143120408163, -75.93009128571428, 0.0)   40.3314312  -75.93009129   \n",
       "\n",
       "  alt field_33                                      geometry  float_lat  \\\n",
       "0   0    FALSE  POINT (-71.02394866943359 42.08608245849609)  42.086082   \n",
       "1   0           POINT (-71.02394866943359 42.08608245849609)  42.086082   \n",
       "2   0           POINT (-75.21529388427734 40.00174713134766)  40.001747   \n",
       "3   0            POINT (-71.0819091796875 42.33191680908203)  42.331917   \n",
       "4   0            POINT (-75.93009185791016 40.3314323425293)  40.331432   \n",
       "\n",
       "   float_long  \n",
       "0  -71.023949  \n",
       "1  -71.023949  \n",
       "2  -75.215294  \n",
       "3  -71.081909  \n",
       "4  -75.930092  "
      ]
     },
     "execution_count": 6,
     "metadata": {},
     "output_type": "execute_result"
    }
   ],
   "source": [
    "gdf.head()"
   ]
  },
  {
   "cell_type": "code",
   "execution_count": 7,
   "metadata": {},
   "outputs": [
    {
     "name": "stdout",
     "output_type": "stream",
     "text": [
      "Requirement already satisfied: geoplot in /srv/app/venv/lib/python3.6/site-packages\n",
      "Requirement already satisfied: geopandas in /srv/app/venv/lib/python3.6/site-packages (from geoplot)\n",
      "Requirement already satisfied: mapclassify in /srv/app/venv/lib/python3.6/site-packages (from geoplot)\n",
      "Requirement already satisfied: pandas in /srv/app/venv/lib/python3.6/site-packages (from geoplot)\n",
      "Requirement already satisfied: descartes in /srv/app/venv/lib/python3.6/site-packages (from geoplot)\n",
      "Requirement already satisfied: matplotlib in /srv/app/venv/lib/python3.6/site-packages (from geoplot)\n",
      "Requirement already satisfied: contextily>=1.0rc2 in /srv/app/venv/lib/python3.6/site-packages (from geoplot)\n",
      "Requirement already satisfied: cartopy in /srv/app/venv/lib/python3.6/site-packages (from geoplot)\n",
      "Requirement already satisfied: seaborn in /srv/app/venv/lib/python3.6/site-packages (from geoplot)\n",
      "Requirement already satisfied: shapely in /srv/app/venv/lib/python3.6/site-packages (from geopandas->geoplot)\n",
      "Requirement already satisfied: pyproj in /srv/app/venv/lib/python3.6/site-packages (from geopandas->geoplot)\n",
      "Requirement already satisfied: fiona in /srv/app/venv/lib/python3.6/site-packages (from geopandas->geoplot)\n",
      "Requirement already satisfied: deprecated in /srv/app/venv/lib/python3.6/site-packages (from mapclassify->geoplot)\n",
      "Requirement already satisfied: numpy>=1.3 in /srv/app/venv/lib/python3.6/site-packages (from mapclassify->geoplot)\n",
      "Requirement already satisfied: scipy>=0.11 in /srv/app/venv/lib/python3.6/site-packages (from mapclassify->geoplot)\n",
      "Requirement already satisfied: scikit-learn in /srv/app/venv/lib/python3.6/site-packages (from mapclassify->geoplot)\n",
      "Requirement already satisfied: pytz>=2011k in /srv/app/venv/lib/python3.6/site-packages (from pandas->geoplot)\n",
      "Requirement already satisfied: python-dateutil>=2.5.0 in /srv/app/venv/lib/python3.6/site-packages (from pandas->geoplot)\n",
      "Requirement already satisfied: cycler>=0.10 in /srv/app/venv/lib/python3.6/site-packages (from matplotlib->geoplot)\n",
      "Requirement already satisfied: kiwisolver>=1.0.1 in /srv/app/venv/lib/python3.6/site-packages (from matplotlib->geoplot)\n",
      "Requirement already satisfied: pyparsing!=2.0.4,!=2.1.2,!=2.1.6,>=2.0.1 in /srv/app/venv/lib/python3.6/site-packages (from matplotlib->geoplot)\n",
      "Requirement already satisfied: geopy in /srv/app/venv/lib/python3.6/site-packages (from contextily>=1.0rc2->geoplot)\n",
      "Requirement already satisfied: joblib in /srv/app/venv/lib/python3.6/site-packages (from contextily>=1.0rc2->geoplot)\n",
      "Requirement already satisfied: pillow in /srv/app/venv/lib/python3.6/site-packages (from contextily>=1.0rc2->geoplot)\n",
      "Requirement already satisfied: rasterio in /srv/app/venv/lib/python3.6/site-packages (from contextily>=1.0rc2->geoplot)\n",
      "Requirement already satisfied: mercantile in /srv/app/venv/lib/python3.6/site-packages (from contextily>=1.0rc2->geoplot)\n",
      "Requirement already satisfied: requests in /srv/app/venv/lib/python3.6/site-packages (from contextily>=1.0rc2->geoplot)\n",
      "Requirement already satisfied: pyshp>=1.1.4 in /srv/app/venv/lib/python3.6/site-packages (from cartopy->geoplot)\n",
      "Requirement already satisfied: six>=1.3.0 in /srv/app/venv/lib/python3.6/site-packages (from cartopy->geoplot)\n",
      "Requirement already satisfied: setuptools>=0.7.2 in /srv/app/venv/lib/python3.6/site-packages (from cartopy->geoplot)\n",
      "Requirement already satisfied: click-plugins>=1.0 in /srv/app/venv/lib/python3.6/site-packages (from fiona->geopandas->geoplot)\n",
      "Requirement already satisfied: attrs>=17 in /srv/app/venv/lib/python3.6/site-packages (from fiona->geopandas->geoplot)\n",
      "Requirement already satisfied: click<8,>=4.0 in /srv/app/venv/lib/python3.6/site-packages (from fiona->geopandas->geoplot)\n",
      "Requirement already satisfied: munch in /srv/app/venv/lib/python3.6/site-packages (from fiona->geopandas->geoplot)\n",
      "Requirement already satisfied: cligj>=0.5 in /srv/app/venv/lib/python3.6/site-packages (from fiona->geopandas->geoplot)\n",
      "Requirement already satisfied: wrapt<2,>=1.10 in /srv/app/venv/lib/python3.6/site-packages (from deprecated->mapclassify->geoplot)\n",
      "Requirement already satisfied: olefile in /srv/app/venv/lib/python3.6/site-packages (from pillow->contextily>=1.0rc2->geoplot)\n",
      "Requirement already satisfied: snuggs>=1.4.1 in /srv/app/venv/lib/python3.6/site-packages (from rasterio->contextily>=1.0rc2->geoplot)\n",
      "Requirement already satisfied: affine in /srv/app/venv/lib/python3.6/site-packages (from rasterio->contextily>=1.0rc2->geoplot)\n",
      "Requirement already satisfied: idna<2.9,>=2.5 in /srv/app/venv/lib/python3.6/site-packages (from requests->contextily>=1.0rc2->geoplot)\n",
      "Requirement already satisfied: urllib3<1.25,>=1.21.1 in /srv/app/venv/lib/python3.6/site-packages (from requests->contextily>=1.0rc2->geoplot)\n",
      "Requirement already satisfied: chardet<3.1.0,>=3.0.2 in /srv/app/venv/lib/python3.6/site-packages (from requests->contextily>=1.0rc2->geoplot)\n",
      "Requirement already satisfied: certifi>=2017.4.17 in /srv/app/venv/lib/python3.6/site-packages (from requests->contextily>=1.0rc2->geoplot)\n",
      "\u001b[33mYou are using pip version 9.0.3, however version 20.0.2 is available.\n",
      "You should consider upgrading via the 'pip install --upgrade pip' command.\u001b[0m\n"
     ]
    }
   ],
   "source": [
    "#%%capture\n",
    "!pip install geoplot;"
   ]
  },
  {
   "cell_type": "code",
   "execution_count": 8,
   "metadata": {},
   "outputs": [
    {
     "name": "stdout",
     "output_type": "stream",
     "text": [
      "{'init': 'epsg:4269'}\n",
      "{'init': 'epsg:4269'}\n"
     ]
    }
   ],
   "source": [
    "import geoplot\n",
    "outlines = gpd.read_file('zip://cb_2016_us_state_500k.zip')\n",
    "outlines.head()\n",
    "\n",
    "#for now, lets take only look at the contiguous US\n",
    "contiguous = outlines.loc[~outlines['STUSPS'].isin(['AK','FM','MH','MP','PR','PW','AS','HI','GU','UM','VI'])]\n",
    "outlines.STUSPS\n",
    "\n",
    "#len(contiguous) #we have 50 states now\n",
    "print(contiguous.crs)\n",
    "print(gdf.crs)"
   ]
  },
  {
   "cell_type": "code",
   "execution_count": 9,
   "metadata": {},
   "outputs": [
    {
     "data": {
      "text/plain": [
       "49"
      ]
     },
     "execution_count": 9,
     "metadata": {},
     "output_type": "execute_result"
    }
   ],
   "source": [
    "len(contiguous)\n",
    "#we should have 48 states -- + DC"
   ]
  },
  {
   "cell_type": "code",
   "execution_count": 10,
   "metadata": {},
   "outputs": [
    {
     "data": {
      "text/html": [
       "<div>\n",
       "<style scoped>\n",
       "    .dataframe tbody tr th:only-of-type {\n",
       "        vertical-align: middle;\n",
       "    }\n",
       "\n",
       "    .dataframe tbody tr th {\n",
       "        vertical-align: top;\n",
       "    }\n",
       "\n",
       "    .dataframe thead th {\n",
       "        text-align: right;\n",
       "    }\n",
       "</style>\n",
       "<table border=\"1\" class=\"dataframe\">\n",
       "  <thead>\n",
       "    <tr style=\"text-align: right;\">\n",
       "      <th></th>\n",
       "      <th>STATEFP</th>\n",
       "      <th>STATENS</th>\n",
       "      <th>AFFGEOID</th>\n",
       "      <th>GEOID</th>\n",
       "      <th>STUSPS</th>\n",
       "      <th>NAME</th>\n",
       "      <th>LSAD</th>\n",
       "      <th>ALAND</th>\n",
       "      <th>AWATER</th>\n",
       "      <th>geometry</th>\n",
       "    </tr>\n",
       "  </thead>\n",
       "  <tbody>\n",
       "    <tr>\n",
       "      <th>0</th>\n",
       "      <td>01</td>\n",
       "      <td>01779775</td>\n",
       "      <td>0400000US01</td>\n",
       "      <td>01</td>\n",
       "      <td>AL</td>\n",
       "      <td>Alabama</td>\n",
       "      <td>00</td>\n",
       "      <td>131173688951</td>\n",
       "      <td>4593686489</td>\n",
       "      <td>(POLYGON ((-88.053375 30.506987, -88.051087999...</td>\n",
       "    </tr>\n",
       "    <tr>\n",
       "      <th>2</th>\n",
       "      <td>04</td>\n",
       "      <td>01779777</td>\n",
       "      <td>0400000US04</td>\n",
       "      <td>04</td>\n",
       "      <td>AZ</td>\n",
       "      <td>Arizona</td>\n",
       "      <td>00</td>\n",
       "      <td>294198560125</td>\n",
       "      <td>1027346486</td>\n",
       "      <td>POLYGON ((-114.816294 32.508038, -114.814321 3...</td>\n",
       "    </tr>\n",
       "    <tr>\n",
       "      <th>3</th>\n",
       "      <td>05</td>\n",
       "      <td>00068085</td>\n",
       "      <td>0400000US05</td>\n",
       "      <td>05</td>\n",
       "      <td>AR</td>\n",
       "      <td>Arkansas</td>\n",
       "      <td>00</td>\n",
       "      <td>134771517596</td>\n",
       "      <td>2960191698</td>\n",
       "      <td>POLYGON ((-94.6178329666013 36.4994141203285, ...</td>\n",
       "    </tr>\n",
       "    <tr>\n",
       "      <th>4</th>\n",
       "      <td>06</td>\n",
       "      <td>01779778</td>\n",
       "      <td>0400000US06</td>\n",
       "      <td>06</td>\n",
       "      <td>CA</td>\n",
       "      <td>California</td>\n",
       "      <td>00</td>\n",
       "      <td>403501101370</td>\n",
       "      <td>20466718403</td>\n",
       "      <td>(POLYGON ((-118.604415 33.478552, -118.598783 ...</td>\n",
       "    </tr>\n",
       "    <tr>\n",
       "      <th>5</th>\n",
       "      <td>08</td>\n",
       "      <td>01779779</td>\n",
       "      <td>0400000US08</td>\n",
       "      <td>08</td>\n",
       "      <td>CO</td>\n",
       "      <td>Colorado</td>\n",
       "      <td>00</td>\n",
       "      <td>268429343790</td>\n",
       "      <td>1175112870</td>\n",
       "      <td>POLYGON ((-109.060253 38.599328, -109.059541 3...</td>\n",
       "    </tr>\n",
       "  </tbody>\n",
       "</table>\n",
       "</div>"
      ],
      "text/plain": [
       "  STATEFP   STATENS     AFFGEOID GEOID STUSPS        NAME LSAD         ALAND  \\\n",
       "0      01  01779775  0400000US01    01     AL     Alabama   00  131173688951   \n",
       "2      04  01779777  0400000US04    04     AZ     Arizona   00  294198560125   \n",
       "3      05  00068085  0400000US05    05     AR    Arkansas   00  134771517596   \n",
       "4      06  01779778  0400000US06    06     CA  California   00  403501101370   \n",
       "5      08  01779779  0400000US08    08     CO    Colorado   00  268429343790   \n",
       "\n",
       "        AWATER                                           geometry  \n",
       "0   4593686489  (POLYGON ((-88.053375 30.506987, -88.051087999...  \n",
       "2   1027346486  POLYGON ((-114.816294 32.508038, -114.814321 3...  \n",
       "3   2960191698  POLYGON ((-94.6178329666013 36.4994141203285, ...  \n",
       "4  20466718403  (POLYGON ((-118.604415 33.478552, -118.598783 ...  \n",
       "5   1175112870  POLYGON ((-109.060253 38.599328, -109.059541 3...  "
      ]
     },
     "execution_count": 10,
     "metadata": {},
     "output_type": "execute_result"
    }
   ],
   "source": [
    "contiguous.head()"
   ]
  },
  {
   "cell_type": "code",
   "execution_count": 11,
   "metadata": {
    "scrolled": true
   },
   "outputs": [
    {
     "data": {
      "text/plain": [
       "0                  Alabama\n",
       "2                  Arizona\n",
       "3                 Arkansas\n",
       "4               California\n",
       "5                 Colorado\n",
       "6              Connecticut\n",
       "7                 Delaware\n",
       "8     District of Columbia\n",
       "9                  Georgia\n",
       "11                   Idaho\n",
       "12                Illinois\n",
       "13                 Indiana\n",
       "14                    Iowa\n",
       "15                  Kansas\n",
       "16                Maryland\n",
       "17               Minnesota\n",
       "18             Mississippi\n",
       "19                 Montana\n",
       "20                  Nevada\n",
       "21              New Jersey\n",
       "22              New Mexico\n",
       "23            North Dakota\n",
       "24                Oklahoma\n",
       "25            Pennsylvania\n",
       "26          South Carolina\n",
       "27            South Dakota\n",
       "28                    Utah\n",
       "29                 Vermont\n",
       "30           West Virginia\n",
       "31                 Wyoming\n",
       "34                 Florida\n",
       "35                Kentucky\n",
       "36               Louisiana\n",
       "37                   Maine\n",
       "38           Massachusetts\n",
       "39                Michigan\n",
       "40                Missouri\n",
       "41                Nebraska\n",
       "42           New Hampshire\n",
       "43                New York\n",
       "44          North Carolina\n",
       "45                    Ohio\n",
       "46                  Oregon\n",
       "47            Rhode Island\n",
       "48               Tennessee\n",
       "49                   Texas\n",
       "50                Virginia\n",
       "51              Washington\n",
       "52               Wisconsin\n",
       "Name: NAME, dtype: object"
      ]
     },
     "execution_count": 11,
     "metadata": {},
     "output_type": "execute_result"
    }
   ],
   "source": [
    "contiguous.NAME"
   ]
  },
  {
   "cell_type": "code",
   "execution_count": 12,
   "metadata": {
    "scrolled": false
   },
   "outputs": [
    {
     "data": {
      "image/png": "[encoded data removed]",
      "text/plain": [
       "<Figure size 576x432 with 1 Axes>"
      ]
     },
     "metadata": {
      "needs_background": "light"
     },
     "output_type": "display_data"
    }
   ],
   "source": [
    "type(outlines)\n",
    "outlines.geometry\n",
    "\n",
    "# A polyplot shows simple shapes. The default settings are pretty nice looking.\n",
    "\n",
    "ax = geoplot.polyplot(contiguous, projection=geoplot.crs.Robinson())\n",
    "#ax = geoplot.webmap(contiguous, projection=geoplot.crs.WebMercator())\n",
    "\n",
    "\n",
    "#Overlay the points\n",
    "geoplot.pointplot(gdf,\n",
    "                  ax = ax)  # add it to the axes created above\n",
    "\n",
    "plt.show()"
   ]
  },
  {
   "cell_type": "code",
   "execution_count": 13,
   "metadata": {},
   "outputs": [],
   "source": [
    "gdf = gdf.loc[gdf['state']!=\"AK\"]"
   ]
  },
  {
   "cell_type": "markdown",
   "metadata": {},
   "source": [
    "# Part 2: Advanced Mapping "
   ]
  },
  {
   "cell_type": "markdown",
   "metadata": {},
   "source": [
    "Basic map achieved, adding some basic elements"
   ]
  },
  {
   "cell_type": "code",
   "execution_count": 46,
   "metadata": {},
   "outputs": [
    {
     "data": {
      "image/png": "[encoded data removed]",
      "text/plain": [
       "<Figure size 1080x1080 with 1 Axes>"
      ]
     },
     "metadata": {
      "needs_background": "light"
     },
     "output_type": "display_data"
    }
   ],
   "source": [
    "type(outlines)\n",
    "outlines.geometry\n",
    "\n",
    "# A polyplot shows simple shapes. The default settings are pretty nice looking.\n",
    "\n",
    "ax = geoplot.polyplot(contiguous, projection=geoplot.crs.Robinson(), figsize=(15,15),zorder=-1,\n",
    "    linewidth=1,\n",
    "    edgecolor='white',\n",
    "    facecolor='lightgray',)\n",
    "#ax = geoplot.webmap(contiguous, projection=geoplot.crs.WebMercator())\n",
    "\n",
    "\n",
    "#Overlay the points\n",
    "geoplot.pointplot(gdf,\n",
    "                  ax = ax)  # add it to the axes created above\n",
    "\n",
    "plt.title('HFFI Activity in the US, 2012-2018', fontsize=15,fontweight='bold')\n",
    "\n",
    "plt.show()"
   ]
  },
  {
   "cell_type": "markdown",
   "metadata": {},
   "source": [
    "#### Projects by type of activity"
   ]
  },
  {
   "cell_type": "code",
   "execution_count": 66,
   "metadata": {},
   "outputs": [
    {
     "data": {
      "image/png": "[encoded data removed]",
      "text/plain": [
       "<Figure size 1080x1080 with 1 Axes>"
      ]
     },
     "metadata": {
      "needs_background": "light"
     },
     "output_type": "display_data"
    }
   ],
   "source": [
    "type(outlines)\n",
    "outlines.geometry\n",
    "\n",
    "# A polyplot shows simple shapes. The default settings are pretty nice looking.\n",
    "\n",
    "ax = geoplot.polyplot(contiguous, projection=geoplot.crs.Robinson(), figsize=(15,15),zorder=-1,\n",
    "    linewidth=1,\n",
    "    edgecolor='white',\n",
    "    facecolor='lightgray',)\n",
    "#ax = geoplot.webmap(contiguous, projection=geoplot.crs.WebMercator())\n",
    "\n",
    "geoplot.pointplot(gdf,\n",
    "                  ax = ax, hue='activity_3', alpha=0.5, legend=True,\n",
    "                    legend_kwargs={'frameon': False, 'loc': 'lower right'},\n",
    "                 cmap='Accent',) \n",
    "\n",
    "## Trying real darn hard to get the color scheme to be categorical. Tried couple different ways to no avail. \n",
    "## in an ideal world would also change the background map to be more neutral; grey filling and white boundaries\n",
    "## maybe for example.\n",
    "\n",
    "plt.title('HFFI Activity in the US, 2012-2018', fontsize=15,fontweight='bold')\n",
    "\n",
    "plt.show()"
   ]
  },
  {
   "cell_type": "markdown",
   "metadata": {},
   "source": [
    "For colormap guidance, went to https://matplotlib.org/3.1.0/tutorials/colors/colormaps.html\n",
    "\n",
    "Qualitative color schemes: \n",
    "'Qualitative' = 'Pastel1', -- too light\n",
    "\n",
    "'Pastel2'-- too light\n",
    "'Paired', -- cannot distinguish between three and four\n",
    "\n",
    "'Accent',\n",
    "                        'Dark2', 'Set1', 'Set2', 'Set3',\n",
    "                        'tab10', 'tab20', 'tab20b', 'tab20c']\n",
    "\n",
    "For legend and other mapping support, went to https://residentmario.github.io/geoplot/user_guide/Customizing_Plots.html"
   ]
  },
  {
   "cell_type": "markdown",
   "metadata": {},
   "source": [
    "# Projects by dollar amount"
   ]
  },
  {
   "cell_type": "code",
   "execution_count": null,
   "metadata": {},
   "outputs": [],
   "source": [
    "type(outlines)\n",
    "outlines.geometry\n",
    "\n",
    "# A polyplot shows simple shapes. The default settings are pretty nice looking.\n",
    "\n",
    "ax = geoplot.polyplot(contiguous, projection=geoplot.crs.Robinson(), figsize=(15,15))\n",
    "#ax = geoplot.webmap(contiguous, projection=geoplot.crs.WebMercator())\n",
    "\n",
    "geoplot.pointplot(gdf,\n",
    "                  ax = ax, hue='loan_amt', alpha=0.5, legend=True) \n",
    "\n",
    "\n",
    "plt.title('HFFI Loan Size, 2012-2018', fontsize=15,fontweight='bold')\n",
    "\n",
    "plt.show()"
   ]
  },
  {
   "cell_type": "markdown",
   "metadata": {},
   "source": [
    "# Grouping Data"
   ]
  },
  {
   "cell_type": "markdown",
   "metadata": {},
   "source": [
    "Going back a couple steps to see if I can get counts of project 1. by state, 2. by CDFI "
   ]
  },
  {
   "cell_type": "code",
   "execution_count": null,
   "metadata": {},
   "outputs": [],
   "source": [
    "gdf.columns"
   ]
  },
  {
   "cell_type": "code",
   "execution_count": null,
   "metadata": {},
   "outputs": [],
   "source": [
    "#gdf.head()\n",
    "\n",
    "#obDF.duplicated(['TractFIPS'], keep='first')])\n",
    "\n",
    "#gdf.groupby('state')['state'].value_counts()\n",
    "\n",
    "duplicateSeries = gdf.duplicated(['lat','long'], keep='first')\n",
    "gdf['isDuplicate'] = duplicateSeries\n",
    "\n",
    "uniqueProjDF = gdf.loc[gdf.isDuplicate == False].copy()\n",
    "\n",
    "print(type(uniqueProjDF))\n",
    "# #uniqueProjDF.groupby('state')['state'].value_counts().to_csv('out.txt', index=True)\n",
    "uniqueProjDF.groupby('state')['state'].value_counts()\n",
    "# #gdf.groupby('state').describe()"
   ]
  },
  {
   "cell_type": "code",
   "execution_count": null,
   "metadata": {},
   "outputs": [],
   "source": [
    "##early efforts\n",
    "\n",
    "#df_state = gdf.groupby('state')\n",
    "#type(df_state)\n",
    "\n",
    "# I don't know exactly that this did anything at all."
   ]
  },
  {
   "cell_type": "code",
   "execution_count": null,
   "metadata": {},
   "outputs": [],
   "source": [
    "# df_state_count = contiguous\n",
    "#df_state_count.head(10)\n",
    "\n",
    "# df_state_count = df_state.count\n",
    "\n",
    "### would it work instead to add to the MAP data -- the continguous map we use -- the count information? \n",
    "## problem is that I replaced all data, for all columns. \n",
    "\n",
    "## I think I need to start wit the contiguous map, which has geographic information, and add a column there \n",
    "\n",
    "# I need to match it by column STUSPS (contiguous) and state"
   ]
  },
  {
   "cell_type": "code",
   "execution_count": null,
   "metadata": {},
   "outputs": [],
   "source": [
    "#Going to try to rename a column\n",
    "contiguous.rename(columns={'STUSPS':'state'}, inplace=True)"
   ]
  },
  {
   "cell_type": "code",
   "execution_count": null,
   "metadata": {},
   "outputs": [],
   "source": [
    "contiguous.head()"
   ]
  },
  {
   "cell_type": "code",
   "execution_count": null,
   "metadata": {},
   "outputs": [],
   "source": [
    "## learning from python notebooks\n",
    "\n",
    "#household_totals = households.groupby('building_id').median()\n",
    "#extended_buildings = pd.merge(buildings, household_totals, on='building_id', how='left')\n",
    "#extended_buildings.head()\n",
    "\n",
    "proj_count = gdf.groupby('state').count()\n",
    "proj_count.head()"
   ]
  },
  {
   "cell_type": "code",
   "execution_count": null,
   "metadata": {},
   "outputs": [],
   "source": [
    "state_count = pd.merge(contiguous, proj_count, on='state', how='left')\n",
    "state_count.head()"
   ]
  },
  {
   "cell_type": "code",
   "execution_count": null,
   "metadata": {},
   "outputs": [],
   "source": [
    "state_count.rename(columns={'geometry_x':'geometry'}, inplace=True)\n",
    "\n",
    "state_count.head(50)"
   ]
  },
  {
   "cell_type": "code",
   "execution_count": null,
   "metadata": {},
   "outputs": [],
   "source": [
    "# Going to try to replace NaN with Zeros\n",
    "state_count['counts'] = state_count['field_1'].fillna(0)"
   ]
  },
  {
   "cell_type": "markdown",
   "metadata": {},
   "source": [
    "We downloaded these results as CSV to create tables that show the number of unique projects funded in each state, and the number of total projects funded by state. "
   ]
  },
  {
   "cell_type": "markdown",
   "metadata": {},
   "source": [
    "As it turns out, the loans by state data could actually be more interesting as a chloropleth map. Can try that. "
   ]
  },
  {
   "cell_type": "code",
   "execution_count": null,
   "metadata": {
    "scrolled": true
   },
   "outputs": [],
   "source": [
    "type(outlines)\n",
    "outlines.geometry\n",
    "\n",
    "ax2 = geoplot.choropleth(\n",
    "    state_count, projection=geoplot.crs.Robinson(), figsize=(15,15), \n",
    "    hue = 'counts', cmap='Greens', legend_kwargs={'orientation': 'horizontal'},edgecolor ='white', linewidth=1, legend=True)\n",
    "\n",
    "plt.title('Project Count by State', fontsize=15,fontweight='bold')\n",
    "\n",
    "#it's not the chloropleth map I wanted... \n",
    "#ideally would get this: gdf.groupby('state')['state'].value_counts() data to be mapped. \n",
    "#to create a new column, and then use that data.\n",
    "\n",
    "plt.show()"
   ]
  },
  {
   "cell_type": "code",
   "execution_count": null,
   "metadata": {},
   "outputs": [],
   "source": [
    "## VERY HAPPY WITH MAP \n",
    "\n",
    "#now trying to get it to categorize in another way\n",
    "\n",
    "#scheme = mc.Quantiles(state_count.field_1, k=4)\n",
    "#gplt.choropleth(\n",
    "#    state_count, hue='field_1', linewidth=0, scheme=scheme, ax=axarr[0][1]\n",
    "#)\n",
    "#axarr[0][1].set_title('scheme=\"Quantiles\"', fontsize=18)\n",
    "\n",
    "ax2 = geoplot.choropleth(\n",
    "    state_count, projection=geoplot.crs.Robinson(), figsize=(15,15), \n",
    "    hue = 'field_1',\n",
    "    scheme=scheme,\n",
    "    edgecolor ='white', linewidth=1, legend=True)\n",
    "\n",
    "plt.title('Project Count by State', fontsize=15,fontweight='bold')\n",
    "\n",
    "#it's not the chloropleth map I wanted... \n",
    "#ideally would get this: gdf.groupby('state')['state'].value_counts() data to be mapped. \n",
    "#to create a new column, and then use that data.\n",
    "\n",
    "plt.show()"
   ]
  },
  {
   "cell_type": "code",
   "execution_count": null,
   "metadata": {},
   "outputs": [],
   "source": []
  },
  {
   "cell_type": "code",
   "execution_count": null,
   "metadata": {},
   "outputs": [],
   "source": [
    "state_count.head(15)"
   ]
  },
  {
   "cell_type": "code",
   "execution_count": null,
   "metadata": {},
   "outputs": [],
   "source": [
    "## Do the same thing for org id to see by CDFI\n",
    "\n",
    "## need to do a new groupby with org_id. \n",
    "\n",
    "## want to improve this notebook by figuring out how to do the fine to co"
   ]
  },
  {
   "cell_type": "markdown",
   "metadata": {},
   "source": [
    "# Back to Income Data intent"
   ]
  },
  {
   "cell_type": "markdown",
   "metadata": {},
   "source": [
    "Did not continue with this effort in Python and used excel instead"
   ]
  },
  {
   "cell_type": "code",
   "execution_count": null,
   "metadata": {},
   "outputs": [],
   "source": [
    "type(gdf.loan_amt)"
   ]
  },
  {
   "cell_type": "code",
   "execution_count": null,
   "metadata": {},
   "outputs": [],
   "source": [
    "gdf['loan_amt'].dtype"
   ]
  },
  {
   "cell_type": "code",
   "execution_count": null,
   "metadata": {},
   "outputs": [],
   "source": [
    "gdf['loan_amt_float'] = gdf['loan_amt'].astype('float')"
   ]
  },
  {
   "cell_type": "code",
   "execution_count": null,
   "metadata": {
    "scrolled": true
   },
   "outputs": [],
   "source": [
    "gdf['loan_amt_float'].plot.hist()\n",
    "#error message I'm receiving; no numerical data to plot\n",
    "#gdf.loan_amt_float[0]\n",
    "#gdf['loan_amt_float']"
   ]
  },
  {
   "cell_type": "code",
   "execution_count": null,
   "metadata": {},
   "outputs": [],
   "source": [
    "import seaborn as sns\n",
    "sns.set()  # activate the Seaborn aesthetic defaults"
   ]
  },
  {
   "cell_type": "code",
   "execution_count": null,
   "metadata": {},
   "outputs": [],
   "source": [
    "data = gdf.loc[(gdf['activity'] == \"GROCERYSTORE\") & \n",
    "                 (gdf.loan_amt_float <= 200000000)]\n",
    "\n",
    "ax = sns.distplot(a = data.loan_amt_float,\n",
    "                  bins = 10,\n",
    "                  color = 'orange',\n",
    "                  kde = False)\n",
    "\n",
    "ax.set_title('Loan Amount for Grocery Stores')\n",
    "\n",
    "plt.show()\n",
    "\n",
    "## works, but I can't get the x tick labels to be at an angle to be readable. Tried variations on this: \n",
    "# chart.set_xticklabels(chart.get_xticklabels(), rotation=45)"
   ]
  },
  {
   "cell_type": "code",
   "execution_count": null,
   "metadata": {},
   "outputs": [],
   "source": []
  },
  {
   "cell_type": "markdown",
   "metadata": {},
   "source": [
    "Goal is to create 5 categories: \n",
    "- $0 to $250,000 loans\n",
    "- $250,000 to $500,000 loans\n",
    "- $500,000 to $1M\n",
    "- $1m t0 $2M\n",
    "- Above $2M"
   ]
  },
  {
   "cell_type": "code",
   "execution_count": null,
   "metadata": {},
   "outputs": [],
   "source": []
  }
 ],
 "metadata": {
  "kernelspec": {
   "display_name": "Python 3",
   "language": "python",
   "name": "python3"
  },
  "language_info": {
   "codemirror_mode": {
    "name": "ipython",
    "version": 3
   },
   "file_extension": ".py",
   "mimetype": "text/x-python",
   "name": "python",
   "nbconvert_exporter": "python",
   "pygments_lexer": "ipython3",
   "version": "3.6.9"
  }
 },
 "nbformat": 4,
 "nbformat_minor": 4
}
